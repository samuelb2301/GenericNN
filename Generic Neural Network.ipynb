{
 "cells": [
  {
   "cell_type": "markdown",
   "id": "e45bea20",
   "metadata": {},
   "source": [
    "# Generic Neural Network\n",
    "\n",
    "An all purpose neural network with variable depth and nodes at each level. Currently contains activation functions: RELU, leaky-RELU and sigmoid\n",
    "\n",
    "Required Modules: numpy"
   ]
  },
  {
   "cell_type": "code",
   "execution_count": 20,
   "id": "1ee5f97d",
   "metadata": {},
   "outputs": [
    {
     "name": "stdout",
     "output_type": "stream",
     "text": [
      "The autoreload extension is already loaded. To reload it, use:\n",
      "  %reload_ext autoreload\n"
     ]
    }
   ],
   "source": [
    "import scripts.nnsteps as nn\n",
    "\n",
    "%load_ext autoreload\n",
    "%autoreload 2"
   ]
  },
  {
   "cell_type": "markdown",
   "id": "420631c7",
   "metadata": {},
   "source": [
    "## Neural Network Steps: Functions\n",
    "\n",
    "- init_parameters(layer_dims) -> initialised parameters\n",
    "- lin_forward(A, W, b) -> linear propagation \n",
    "- forward_prop(A_prev, W, b, activation) -> activation(Z), cache\n",
    "- L_model_forward(X, parameters, actfuncs) -> AL, caches\n",
    "- compute_cost(AL, Y, func) -> cost\n",
    "- lin_backward(dZ, cache) -> (dA_prev, dW, db)\n",
    "- backward_prop(dA, cache, actfunc) -> dA_prev, dW, db\n",
    "- L_model_backward(AL, Y, caches, actfuncs, func) -> grads\n",
    "- update_parameters(params, grads, learning_rate) -> parameters"
   ]
  },
  {
   "cell_type": "code",
   "execution_count": 21,
   "id": "ada42bb6",
   "metadata": {},
   "outputs": [],
   "source": [
    "class model(object):\n",
    "    def __init__(self, layer_dims, actfuncs):\n",
    "        self.layer_dims = layer_dims\n",
    "        self.actfuncs = actfuncs\n",
    "        \n",
    "    def train(self, X, Y, num_iterations = 2000, print_cost = False, learning_rate = 0.01):\n",
    "        parameters = init_parameters(self.layer_dims)\n",
    "        costs = []\n",
    "        for i in range(0, num_iterations):\n",
    "            AL, caches = L_model_forward(X, parameters, actfuncs)\n",
    "            cost = compute_cost(AL, Y)\n",
    "            grads = L_model_backward(AL, Y, caches, actfuncs)\n",
    "            parameters = update_parameters(parameters, grads, learning_rate)\n",
    "            \n",
    "            if print_cost and i%100==0:\n",
    "                print(\"Cost = \"%scost)\n",
    "            elif i%5 == 0:\n",
    "                costs.append(cost)\n",
    "        self.costs = costs\n",
    "        self.parameters = parameters\n",
    "        return parameters\n",
    "    \n",
    "    def predict(self, test):\n",
    "        AL, _ = L_model_forward(test, self.parameters, actfuncs)\n",
    "        return AL \n"
   ]
  },
  {
   "cell_type": "code",
   "execution_count": null,
   "id": "cc378705",
   "metadata": {},
   "outputs": [],
   "source": []
  }
 ],
 "metadata": {
  "kernelspec": {
   "display_name": "Python 3",
   "language": "python",
   "name": "python3"
  },
  "language_info": {
   "codemirror_mode": {
    "name": "ipython",
    "version": 3
   },
   "file_extension": ".py",
   "mimetype": "text/x-python",
   "name": "python",
   "nbconvert_exporter": "python",
   "pygments_lexer": "ipython3",
   "version": "3.8.11"
  }
 },
 "nbformat": 4,
 "nbformat_minor": 5
}
